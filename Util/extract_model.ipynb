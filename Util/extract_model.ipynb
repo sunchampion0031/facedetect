{
 "cells": [
  {
   "cell_type": "code",
   "execution_count": 6,
   "id": "dcf7cb22",
   "metadata": {
    "ExecuteTime": {
     "end_time": "2023-04-14T08:48:08.249267Z",
     "start_time": "2023-04-14T08:48:08.244915Z"
    }
   },
   "outputs": [],
   "source": [
    "import torch"
   ]
  },
  {
   "cell_type": "code",
   "execution_count": 7,
   "id": "60568a5a",
   "metadata": {
    "ExecuteTime": {
     "end_time": "2023-04-14T08:48:08.813563Z",
     "start_time": "2023-04-14T08:48:08.807463Z"
    }
   },
   "outputs": [],
   "source": [
    "def extract_model(o_dir = '', t_dir= \" \"):\n",
    "    a = torch.load(o_dir, map_location=torch.device('cpu'))\n",
    "    torch.save(a[\"model\"], t_dir)\n"
   ]
  },
  {
   "cell_type": "code",
   "execution_count": 8,
   "id": "275502b7",
   "metadata": {
    "ExecuteTime": {
     "end_time": "2023-04-14T08:48:10.683412Z",
     "start_time": "2023-04-14T08:48:09.359435Z"
    }
   },
   "outputs": [],
   "source": [
    "extract_model(o_dir = '../trained_model/checkpoint-yolov4-150-(0.5705).pth', t_dir= \"../trained_model/yolov4/yolov4-150-(0.5705).pth\")\n",
    "\n",
    "\n"
   ]
  },
  {
   "cell_type": "code",
   "execution_count": null,
   "id": "0bf26b13",
   "metadata": {},
   "outputs": [],
   "source": []
  }
 ],
 "metadata": {
  "kernelspec": {
   "display_name": "Python [conda env:pytorch] *",
   "language": "python",
   "name": "conda-env-pytorch-py"
  },
  "language_info": {
   "codemirror_mode": {
    "name": "ipython",
    "version": 3
   },
   "file_extension": ".py",
   "mimetype": "text/x-python",
   "name": "python",
   "nbconvert_exporter": "python",
   "pygments_lexer": "ipython3",
   "version": "3.9.16"
  },
  "toc": {
   "base_numbering": 1,
   "nav_menu": {},
   "number_sections": true,
   "sideBar": true,
   "skip_h1_title": false,
   "title_cell": "Table of Contents",
   "title_sidebar": "Contents",
   "toc_cell": false,
   "toc_position": {},
   "toc_section_display": true,
   "toc_window_display": false
  },
  "varInspector": {
   "cols": {
    "lenName": 16,
    "lenType": 16,
    "lenVar": 40
   },
   "kernels_config": {
    "python": {
     "delete_cmd_postfix": "",
     "delete_cmd_prefix": "del ",
     "library": "var_list.py",
     "varRefreshCmd": "print(var_dic_list())"
    },
    "r": {
     "delete_cmd_postfix": ") ",
     "delete_cmd_prefix": "rm(",
     "library": "var_list.r",
     "varRefreshCmd": "cat(var_dic_list()) "
    }
   },
   "types_to_exclude": [
    "module",
    "function",
    "builtin_function_or_method",
    "instance",
    "_Feature"
   ],
   "window_display": false
  }
 },
 "nbformat": 4,
 "nbformat_minor": 5
}
