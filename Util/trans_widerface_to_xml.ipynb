{
 "cells": [
  {
   "cell_type": "code",
   "execution_count": 24,
   "id": "30a5be67",
   "metadata": {},
   "outputs": [],
   "source": [
    "import copy\n",
    "import os\n",
    "from xml.dom import minidom as dom\n",
    "from tqdm import tqdm\n",
    "import cv2\n",
    "import re"
   ]
  },
  {
   "cell_type": "code",
   "execution_count": 15,
   "id": "d54abd45",
   "metadata": {},
   "outputs": [],
   "source": [
    "class XMLGenerator(object):\n",
    "    def __init__(self, xml_name: str):\n",
    "        self.doc = dom.Document()\n",
    "        self.xml_name = xml_name\n",
    "\n",
    "    def create_append_node(self, node_name, root_node=None):\n",
    "        \"\"\"创建一个新node并将node添加到root_node下\"\"\"\n",
    "        new_node = self.doc.createElement(node_name)\n",
    "        if root_node is not None:\n",
    "            root_node.appendChild(new_node)\n",
    "        else:\n",
    "            self.doc.appendChild(new_node)\n",
    "        return new_node\n",
    "\n",
    "    def create_text_node(self, node_name, node_value, root_node):\n",
    "        \"\"\"\n",
    "        创建一个新node，然后在该node中添加一个text_node，\n",
    "        最后将node添加到root_node下\n",
    "        \"\"\"\n",
    "        new_node = self.doc.createElement(node_name)\n",
    "        node_data = self.doc.createTextNode(node_value)\n",
    "        new_node.appendChild(node_data)\n",
    "        root_node.appendChild(new_node)\n",
    "\n",
    "    def create_object_node(self, info_dict: dict = None, root_node: str = None):\n",
    "        if (info_dict is None) or (root_node is None):\n",
    "            return\n",
    "\n",
    "        object_node = self.create_append_node('object', root_node)\n",
    "        box_node = self.create_append_node('bndbox', object_node)\n",
    "        self.create_text_node(\"xmin\", info_dict.pop(\"xmin\"), box_node)\n",
    "        self.create_text_node(\"ymin\", info_dict.pop(\"ymin\"), box_node)\n",
    "        self.create_text_node(\"xmax\", info_dict.pop(\"xmax\"), box_node)\n",
    "        self.create_text_node(\"ymax\", info_dict.pop(\"ymax\"), box_node)\n",
    "\n",
    "        for k, v in info_dict.items():\n",
    "            self.create_text_node(k, v, object_node)\n",
    "\n",
    "    def save_xml(self):\n",
    "        f = open(self.xml_name, \"w\")\n",
    "        self.doc.writexml(f, addindent=\"\\t\", newl=\"\\n\")\n",
    "        f.close()\n",
    "\n"
   ]
  },
  {
   "cell_type": "code",
   "execution_count": 16,
   "id": "fffc3470",
   "metadata": {},
   "outputs": [],
   "source": [
    "def create_pascal_voc_xml(filename: str = None,\n",
    "                          years: str = 'VOC2012',\n",
    "                          source_dict: dict = None,\n",
    "                          objects_list: list = None,\n",
    "                          im_shape: tuple = None,\n",
    "                          save_root: str = os.getcwd(),\n",
    "                          cover: bool = False):\n",
    "    if not (filename and source_dict and objects_list and im_shape):\n",
    "        return\n",
    "\n",
    "    # 0--Parade/0_Parade_marchingband_1_849.jpg -> 0_Parade_marchingband_1_849.xml\n",
    "    xml_name = filename.split(os.sep)[-1].split(\".\")[0] + '.xml'\n",
    "    xml_full_path = os.path.join(save_root, xml_name)\n",
    "    if os.path.exists(xml_full_path) and (cover is False):\n",
    "        print(f\"{xml_full_path} already exist, skip.\")\n",
    "        return\n",
    "\n",
    "    xml_generator = XMLGenerator(xml_full_path)\n",
    "\n",
    "    # xml root node\n",
    "    node_root = xml_generator.create_append_node('annotation')\n",
    "    xml_generator.create_text_node(node_name='folder', node_value=years, root_node=node_root)\n",
    "    xml_generator.create_text_node(node_name='filename', node_value=filename, root_node=node_root)\n",
    "\n",
    "    # source\n",
    "    node_source = xml_generator.create_append_node('source', root_node=node_root)\n",
    "    xml_generator.create_text_node(node_name='database', node_value=source_dict['database'], root_node=node_source)\n",
    "    xml_generator.create_text_node(node_name='annotation', node_value=source_dict['annotation'], root_node=node_source)\n",
    "    xml_generator.create_text_node(node_name='image', node_value=source_dict['image'], root_node=node_source)\n",
    "\n",
    "    # size\n",
    "    node_size = xml_generator.create_append_node('size', root_node=node_root)\n",
    "    xml_generator.create_text_node(node_name='height', node_value=str(im_shape[0]), root_node=node_size)\n",
    "    xml_generator.create_text_node(node_name='width', node_value=str(im_shape[1]), root_node=node_size)\n",
    "    xml_generator.create_text_node(node_name='depth', node_value=str(im_shape[2]), root_node=node_size)\n",
    "\n",
    "    # segmented\n",
    "    xml_generator.create_text_node(node_name='segmented', node_value='0', root_node=node_root)\n",
    "\n",
    "    # object\n",
    "    for i, ob in enumerate(objects_list):\n",
    "        xml_generator.create_object_node(info_dict=ob, root_node=node_root)\n",
    "\n",
    "    # XML write\n",
    "    xml_generator.save_xml()\n",
    "\n",
    "\n"
   ]
  },
  {
   "cell_type": "code",
   "execution_count": 17,
   "id": "b5d9f74c",
   "metadata": {},
   "outputs": [],
   "source": [
    "def create_xml_test():\n",
    "    objects = []\n",
    "    ob = {'name': 'person', 'pose': 'Unspecified', 'truncated': '0', 'difficult': '0',\n",
    "          'xmin': '174', 'ymin': '101', 'xmax': '349', 'ymax': '351'}\n",
    "    objects.append(ob)\n",
    "    objects.append(copy.deepcopy(ob))\n",
    "\n",
    "    years = 'VOC2012'\n",
    "    filename = 'test.jpg'\n",
    "    source_dict = {'database': 'The VOC2007 Database', 'annotation': 'PASCAL VOC2007', 'image': 'flickr'}\n",
    "    im_width = '500'\n",
    "    im_height = '700'\n",
    "    im_depth = '3'\n",
    "    im_shape = (im_width, im_height, im_depth)\n",
    "    create_pascal_voc_xml(filename=filename, years=years,\n",
    "                          source_dict=source_dict, objects_list=objects,\n",
    "                          im_shape=im_shape)"
   ]
  },
  {
   "cell_type": "code",
   "execution_count": 18,
   "id": "a1398172",
   "metadata": {},
   "outputs": [],
   "source": [
    "def create_xml(labels: list, img_root: str, img_path: str, save_root: str) -> bool:\n",
    "    source_dict = {'database': 'The WIDERFACE2017 Database',\n",
    "                   'annotation': 'WIDERFACE 2017',\n",
    "                   'image': 'WIDERFACE'}\n",
    "\n",
    "    img_name = img_path.split(\"/\")[1].split(\".\")[0]\n",
    "    n_img_dir = os.path.join(save_root, img_name + '.jpg')\n",
    "    img_full_path = os.path.join(img_root, img_path)\n",
    "    if os.path.exists(img_full_path):\n",
    "        im = cv2.imread(img_full_path)\n",
    "        im_shape = im.shape\n",
    "        cv2.imwrite(n_img_dir, im)\n",
    "    else:\n",
    "        print(f\"Warning: {img_path} does not exist, can't read image shape.\")\n",
    "        im_shape = (0, 0, 0)\n",
    "\n",
    "    ob_list = []\n",
    "    for ob in labels:\n",
    "        if ob[7] == '1':\n",
    "            # invalid face image, skip\n",
    "            continue\n",
    "\n",
    "        if int(ob[2]) <= 0 or int(ob[3]) <= 0:\n",
    "            print(f\"Warning: find bbox w or h <= 0, in {img_path}, skip.\")\n",
    "            continue\n",
    "\n",
    "        ob_dict = {'name': 'face',\n",
    "                   'truncated': '0' if ob[8] == '0' else '1', # 人脸的遮挡程度\n",
    "                   'difficult': '1' if ob[4] == '2' or ob[8] == '2' else '0', # 很模糊或遮挡严重为1\n",
    "                   'xmin': ob[0], 'ymin': ob[1],\n",
    "                   'xmax': str(int(ob[0]) + int(ob[2])),\n",
    "                   'ymax': str(int(ob[1]) + int(ob[3])),\n",
    "                   'blur': ob[4], 'expression': ob[5],\n",
    "                   'illumination': ob[6], 'invalid': ob[7],\n",
    "                   'occlusion': ob[8], 'pose': ob[9]}\n",
    "\n",
    "        # if ob[7] == '1':\n",
    "        #     cv2.rectangle(im, (int(ob_dict['xmin']), int(ob_dict['ymin'])),\n",
    "        #                   (int(ob_dict['xmax']), int(ob_dict['ymax'])),\n",
    "        #                   (0, 0, 255))\n",
    "        #     cv2.imshow(\"s\", im)\n",
    "        #     cv2.waitKey(0)\n",
    "\n",
    "        ob_list.append(ob_dict)\n",
    "    \n",
    "    if len(ob_list) == 0: \n",
    "        print(f\"in {img_path}, no object, skip.\")\n",
    "        return False\n",
    "\n",
    "    create_pascal_voc_xml(filename=img_path,\n",
    "                          years=\"WIDERFACE2017\",\n",
    "                          source_dict=source_dict,\n",
    "                          objects_list=ob_list,\n",
    "                          im_shape=im_shape,\n",
    "                          save_root=save_root)\n",
    "\n",
    "    return True\n",
    "\n"
   ]
  },
  {
   "cell_type": "code",
   "execution_count": 19,
   "id": "683640a0",
   "metadata": {},
   "outputs": [],
   "source": [
    "def parse_wider_txt(data_root: str, split: str, save_root: str):\n",
    "    \"\"\"\n",
    "    refer to: torchvision.dataset.widerface.py\n",
    "    :param data_root:\n",
    "    :param split:\n",
    "    :param save_root:\n",
    "    :return:\n",
    "    \"\"\"\n",
    "    assert split in ['train', 'val'], f\"split must be in ['train', 'val'], got {split}\"\n",
    "\n",
    "    if os.path.exists(save_root) is False:\n",
    "        os.makedirs(save_root)\n",
    "\n",
    "    txt_path = os.path.join(data_root, 'wider_face_split', f'wider_face_{split}_bbx_gt.txt')\n",
    "    img_root = os.path.join(data_root, f'WIDER_{split}', 'images')\n",
    "    \n",
    "    with open(txt_path, \"r\") as f:\n",
    "        lines = f.readlines()\n",
    "        file_name_line, num_boxes_line, box_annotation_line = True, False, False\n",
    "        num_boxes, box_counter, idx = 0, 0, 0\n",
    "        labels = []\n",
    "        xml_list = []\n",
    "        progress_bar = tqdm(lines)\n",
    "        for line in progress_bar:\n",
    "            line = line.rstrip()\n",
    "            if file_name_line:\n",
    "                img_path = line\n",
    "                file_name_line = False\n",
    "                num_boxes_line = True\n",
    "            elif num_boxes_line:\n",
    "                num_boxes = int(line)\n",
    "                num_boxes_line = False\n",
    "                box_annotation_line = True\n",
    "            elif box_annotation_line:\n",
    "                box_counter += 1\n",
    "                line_split = line.split(\" \")\n",
    "                line_values = [x for x in line_split]\n",
    "                labels.append(line_values)\n",
    "                if box_counter >= num_boxes:\n",
    "                    box_annotation_line = False\n",
    "                    file_name_line = True\n",
    "\n",
    "                    if num_boxes == 0:\n",
    "                        print(f\"in {img_path}, no object, skip.\")\n",
    "                    else:\n",
    "                        if create_xml(labels, img_root, img_path, save_root):\n",
    "                            # 只记录有目标的xml文件\n",
    "                            xml_list.append(img_path.split(\"/\")[-1].split(\".\")[0])\n",
    "\n",
    "                    box_counter = 0\n",
    "                    labels.clear()\n",
    "                    idx += 1\n",
    "                    progress_bar.set_description(f\"{idx} images\")\n",
    "            else:\n",
    "                raise RuntimeError(\"Error parsing annotation file {}\".format(txt_path))\n",
    "\n",
    "        with open(split+'.txt', 'w') as w:\n",
    "            w.write(\"\\n\".join(xml_list))\n",
    "\n",
    "\n"
   ]
  },
  {
   "cell_type": "code",
   "execution_count": 21,
   "id": "247fff1d",
   "metadata": {
    "collapsed": true
   },
   "outputs": [
    {
     "name": "stderr",
     "output_type": "stream",
     "text": [
      "285 images:   6%|█▎                    | 10623/185184 [00:08<02:41, 1082.62it/s]"
     ]
    },
    {
     "name": "stdout",
     "output_type": "stream",
     "text": [
      "in 0--Parade/0_Parade_Parade_0_452.jpg, no object, skip.\n"
     ]
    },
    {
     "name": "stderr",
     "output_type": "stream",
     "text": [
      "1159 images:  17%|███▋                  | 31019/185184 [00:30<03:25, 748.82it/s]"
     ]
    },
    {
     "name": "stdout",
     "output_type": "stream",
     "text": [
      "Warning: find bbox w or h <= 0, in 12--Group/12_Group_Large_Group_12_Group_Large_Group_12_31.jpg, skip.\n"
     ]
    },
    {
     "name": "stderr",
     "output_type": "stream",
     "text": [
      "2988 images:  30%|██████▎              | 55659/185184 [01:16<01:05, 1975.72it/s]"
     ]
    },
    {
     "name": "stdout",
     "output_type": "stream",
     "text": [
      "Warning: find bbox w or h <= 0, in 2--Demonstration/2_Demonstration_Demonstration_Or_Protest_2_666.jpg, skip.\n"
     ]
    },
    {
     "name": "stderr",
     "output_type": "stream",
     "text": [
      "3108 images:  32%|██████▋              | 59337/185184 [01:19<01:49, 1153.74it/s]"
     ]
    },
    {
     "name": "stdout",
     "output_type": "stream",
     "text": [
      "Warning: find bbox w or h <= 0, in 2--Demonstration/2_Demonstration_Political_Rally_2_71.jpg, skip.\n",
      "Warning: find bbox w or h <= 0, in 2--Demonstration/2_Demonstration_Demonstrators_2_206.jpg, skip.\n"
     ]
    },
    {
     "name": "stderr",
     "output_type": "stream",
     "text": [
      "3111 images:  32%|██████▋              | 59455/185184 [01:19<01:49, 1145.40it/s]"
     ]
    },
    {
     "name": "stdout",
     "output_type": "stream",
     "text": [
      "Warning: find bbox w or h <= 0, in 2--Demonstration/2_Demonstration_Demonstration_Or_Protest_2_520.jpg, skip.\n"
     ]
    },
    {
     "name": "stderr",
     "output_type": "stream",
     "text": [
      "3200 images:  35%|███████▎             | 64473/185184 [01:23<01:44, 1155.32it/s]"
     ]
    },
    {
     "name": "stdout",
     "output_type": "stream",
     "text": [
      "Warning: find bbox w or h <= 0, in 2--Demonstration/2_Demonstration_Demonstrators_2_559.jpg, skip.\n"
     ]
    },
    {
     "name": "stderr",
     "output_type": "stream",
     "text": [
      "3229 images:  35%|███████▍             | 65357/185184 [01:24<01:57, 1024.13it/s]"
     ]
    },
    {
     "name": "stdout",
     "output_type": "stream",
     "text": [
      "Warning: find bbox w or h <= 0, in 2--Demonstration/2_Demonstration_Protesters_2_346.jpg, skip.\n"
     ]
    },
    {
     "name": "stderr",
     "output_type": "stream",
     "text": [
      "3453 images:  40%|████████▉             | 74818/185184 [01:32<02:04, 889.13it/s]"
     ]
    },
    {
     "name": "stdout",
     "output_type": "stream",
     "text": [
      "Warning: find bbox w or h <= 0, in 2--Demonstration/2_Demonstration_Demonstration_Or_Protest_2_202.jpg, skip.\n"
     ]
    },
    {
     "name": "stderr",
     "output_type": "stream",
     "text": [
      "3496 images:  41%|█████████             | 76236/185184 [01:34<02:07, 857.65it/s]"
     ]
    },
    {
     "name": "stdout",
     "output_type": "stream",
     "text": [
      "Warning: find bbox w or h <= 0, in 2--Demonstration/2_Demonstration_Demonstration_Or_Protest_2_546.jpg, skip.\n",
      "Warning: find bbox w or h <= 0, in 2--Demonstration/2_Demonstration_Demonstration_Or_Protest_2_543.jpg, skip.\n"
     ]
    },
    {
     "name": "stderr",
     "output_type": "stream",
     "text": [
      "3811 images:  47%|██████████▎           | 86593/185184 [01:44<03:55, 419.17it/s]"
     ]
    },
    {
     "name": "stdout",
     "output_type": "stream",
     "text": [
      "in 2--Demonstration/2_Demonstration_Political_Rally_2_444.jpg, no object, skip.\n"
     ]
    },
    {
     "name": "stderr",
     "output_type": "stream",
     "text": [
      "3870 images:  48%|██████████▍           | 88263/185184 [01:46<02:01, 800.61it/s]"
     ]
    },
    {
     "name": "stdout",
     "output_type": "stream",
     "text": [
      "Warning: find bbox w or h <= 0, in 2--Demonstration/2_Demonstration_Demonstrators_2_373.jpg, skip.\n"
     ]
    },
    {
     "name": "stderr",
     "output_type": "stream",
     "text": [
      "5447 images:  58%|████████████▎        | 108297/185184 [02:39<03:56, 325.55it/s]"
     ]
    },
    {
     "name": "stdout",
     "output_type": "stream",
     "text": [
      "Warning: find bbox w or h <= 0, in 29--Students_Schoolkids/29_Students_Schoolkids_Students_Schoolkids_29_230.jpg, skip.\n"
     ]
    },
    {
     "name": "stderr",
     "output_type": "stream",
     "text": [
      "6274 images:  62%|████████████▉        | 114203/185184 [03:03<06:20, 186.42it/s]"
     ]
    },
    {
     "name": "stdout",
     "output_type": "stream",
     "text": [
      "Warning: find bbox w or h <= 0, in 33--Running/33_Running_Running_33_660.jpg, skip.\n"
     ]
    },
    {
     "name": "stderr",
     "output_type": "stream",
     "text": [
      "6491 images:  63%|████████████▋       | 117197/185184 [03:09<00:53, 1278.47it/s]"
     ]
    },
    {
     "name": "stdout",
     "output_type": "stream",
     "text": [
      "Warning: find bbox w or h <= 0, in 35--Basketball/35_Basketball_basketballgame_ball_35_805.jpg, skip.\n"
     ]
    },
    {
     "name": "stderr",
     "output_type": "stream",
     "text": [
      "6863 images:  67%|██████████████       | 124448/185184 [03:21<01:30, 667.86it/s]"
     ]
    },
    {
     "name": "stdout",
     "output_type": "stream",
     "text": [
      "Warning: find bbox w or h <= 0, in 35--Basketball/35_Basketball_Basketball_35_102.jpg, skip.\n"
     ]
    },
    {
     "name": "stderr",
     "output_type": "stream",
     "text": [
      "6894 images:  68%|██████████████▏      | 125506/185184 [03:22<01:10, 843.00it/s]"
     ]
    },
    {
     "name": "stdout",
     "output_type": "stream",
     "text": [
      "Warning: find bbox w or h <= 0, in 35--Basketball/35_Basketball_Basketball_35_220.jpg, skip.\n"
     ]
    },
    {
     "name": "stderr",
     "output_type": "stream",
     "text": [
      "7081 images:  70%|██████████████▋      | 129201/185184 [03:29<02:24, 387.47it/s]"
     ]
    },
    {
     "name": "stdout",
     "output_type": "stream",
     "text": [
      "Warning: find bbox w or h <= 0, in 36--Football/36_Football_americanfootball_ball_36_184.jpg, skip.\n",
      "Warning: find bbox w or h <= 0, in 36--Football/36_Football_americanfootball_ball_36_184.jpg, skip.\n",
      "Warning: find bbox w or h <= 0, in 36--Football/36_Football_americanfootball_ball_36_184.jpg, skip.\n",
      "Warning: find bbox w or h <= 0, in 36--Football/36_Football_americanfootball_ball_36_184.jpg, skip.\n",
      "Warning: find bbox w or h <= 0, in 36--Football/36_Football_americanfootball_ball_36_184.jpg, skip.\n"
     ]
    },
    {
     "name": "stderr",
     "output_type": "stream",
     "text": [
      "7136 images:  70%|██████████████▋      | 129643/185184 [03:30<02:40, 346.04it/s]"
     ]
    },
    {
     "name": "stdout",
     "output_type": "stream",
     "text": [
      "Warning: find bbox w or h <= 0, in 36--Football/36_Football_Football_36_63.jpg, skip.\n"
     ]
    },
    {
     "name": "stderr",
     "output_type": "stream",
     "text": [
      "7521 images:  72%|███████████████▏     | 133450/185184 [03:40<02:54, 295.64it/s]"
     ]
    },
    {
     "name": "stdout",
     "output_type": "stream",
     "text": [
      "in 39--Ice_Skating/39_Ice_Skating_iceskiing_39_380.jpg, no object, skip.\n"
     ]
    },
    {
     "name": "stderr",
     "output_type": "stream",
     "text": [
      "9235 images:  79%|████████████████▌    | 145717/185184 [04:24<02:19, 283.83it/s]"
     ]
    },
    {
     "name": "stdout",
     "output_type": "stream",
     "text": [
      "in 46--Jockey/46_Jockey_Jockey_46_576.jpg, no object, skip.\n"
     ]
    },
    {
     "name": "stderr",
     "output_type": "stream",
     "text": [
      "9289 images:  79%|████████████████▌    | 146374/185184 [04:26<01:44, 370.28it/s]"
     ]
    },
    {
     "name": "stdout",
     "output_type": "stream",
     "text": [
      "Warning: find bbox w or h <= 0, in 46--Jockey/46_Jockey_Jockey_46_717.jpg, skip.\n"
     ]
    },
    {
     "name": "stderr",
     "output_type": "stream",
     "text": [
      "9557 images:  82%|█████████████████▏   | 151308/185184 [04:36<00:42, 789.60it/s]"
     ]
    },
    {
     "name": "stdout",
     "output_type": "stream",
     "text": [
      "Warning: find bbox w or h <= 0, in 48--Parachutist_Paratrooper/48_Parachutist_Paratrooper_Parachutist_Paratrooper_48_283.jpg, skip.\n"
     ]
    },
    {
     "name": "stderr",
     "output_type": "stream",
     "text": [
      "9589 images:  82%|█████████████████▏   | 151511/185184 [04:36<01:03, 534.30it/s]"
     ]
    },
    {
     "name": "stdout",
     "output_type": "stream",
     "text": [
      "Warning: find bbox w or h <= 0, in 48--Parachutist_Paratrooper/48_Parachutist_Paratrooper_Parachutist_Paratrooper_48_258.jpg, skip.\n"
     ]
    },
    {
     "name": "stderr",
     "output_type": "stream",
     "text": [
      "10976 images:  87%|█████████████████▍  | 161878/185184 [05:12<00:43, 535.58it/s]"
     ]
    },
    {
     "name": "stdout",
     "output_type": "stream",
     "text": [
      "Warning: find bbox w or h <= 0, in 54--Rescue/54_Rescue_rescuepeople_54_29.jpg, skip.\n"
     ]
    },
    {
     "name": "stderr",
     "output_type": "stream",
     "text": [
      "12389 images:  96%|██████████████████▎| 178038/185184 [05:47<00:04, 1670.73it/s]"
     ]
    },
    {
     "name": "stdout",
     "output_type": "stream",
     "text": [
      "Warning: find bbox w or h <= 0, in 7--Cheering/7_Cheering_Cheering_7_17.jpg, skip.\n"
     ]
    },
    {
     "name": "stderr",
     "output_type": "stream",
     "text": [
      "12880 images: 100%|████████████████████| 185184/185184 [05:59<00:00, 515.23it/s]\n"
     ]
    }
   ],
   "source": [
    "# parse_wider_txt(\"../../../data/WiderFace/\", \"train\", \"../../../data/WiderFace/train/\")"
   ]
  },
  {
   "cell_type": "code",
   "execution_count": 22,
   "id": "9cdbaf2a",
   "metadata": {},
   "outputs": [],
   "source": [
    "def get_filename(root_dir = \"../../../data/WiderFace/train/\"):\n",
    "    name_list = []\n",
    "    for root, dirs, files in os.walk(root_dir):\n",
    "        for file in files:\n",
    "            file = file.strip()\n",
    "            if file != '.DS_Store' and file != 'filename.txt' and file.endswith(\".xml\"):\n",
    "                file = re.sub(r'.(xml|jpg|png)$', \"\", file)\n",
    "                name_list.append(file + '\\n')\n",
    "    print(len(name_list), sep='\\n')\n",
    "    name_list = list(set(name_list))\n",
    "    all_len = len(name_list)\n",
    "    print(all_len, sep='\\n')\n",
    "\n",
    "\n",
    "    with open(root_dir + '/filename.txt', 'w') as f:\n",
    "        f.writelines(name_list)\n",
    "\n"
   ]
  },
  {
   "cell_type": "code",
   "execution_count": 27,
   "id": "9ecae1f8",
   "metadata": {},
   "outputs": [
    {
     "name": "stdout",
     "output_type": "stream",
     "text": [
      "12876\n",
      "12876\n"
     ]
    }
   ],
   "source": [
    "# get_filename(root_dir = \"../../../data/WiderFace/train/\")"
   ]
  },
  {
   "cell_type": "code",
   "execution_count": 32,
   "id": "906f8a69",
   "metadata": {},
   "outputs": [],
   "source": [
    "def read_lines(root_dir = \"../../../data/WiderFace/train/\"):\n",
    "    with open(root_dir + 'filename.txt', 'r') as f:\n",
    "        l = f.readlines()\n",
    "        print(len(l))"
   ]
  },
  {
   "cell_type": "code",
   "execution_count": 33,
   "id": "aca00798",
   "metadata": {},
   "outputs": [
    {
     "name": "stdout",
     "output_type": "stream",
     "text": [
      "12876\n"
     ]
    }
   ],
   "source": [
    "# read_lines()"
   ]
  },
  {
   "cell_type": "code",
   "execution_count": null,
   "id": "6c2ab9ee",
   "metadata": {},
   "outputs": [],
   "source": []
  }
 ],
 "metadata": {
  "kernelspec": {
   "display_name": "Python [conda env:pytorch] *",
   "language": "python",
   "name": "conda-env-pytorch-py"
  },
  "language_info": {
   "codemirror_mode": {
    "name": "ipython",
    "version": 3
   },
   "file_extension": ".py",
   "mimetype": "text/x-python",
   "name": "python",
   "nbconvert_exporter": "python",
   "pygments_lexer": "ipython3",
   "version": "3.9.16"
  },
  "toc": {
   "base_numbering": 1,
   "nav_menu": {},
   "number_sections": true,
   "sideBar": true,
   "skip_h1_title": false,
   "title_cell": "Table of Contents",
   "title_sidebar": "Contents",
   "toc_cell": false,
   "toc_position": {},
   "toc_section_display": true,
   "toc_window_display": false
  },
  "varInspector": {
   "cols": {
    "lenName": 16,
    "lenType": 16,
    "lenVar": 40
   },
   "kernels_config": {
    "python": {
     "delete_cmd_postfix": "",
     "delete_cmd_prefix": "del ",
     "library": "var_list.py",
     "varRefreshCmd": "print(var_dic_list())"
    },
    "r": {
     "delete_cmd_postfix": ") ",
     "delete_cmd_prefix": "rm(",
     "library": "var_list.r",
     "varRefreshCmd": "cat(var_dic_list()) "
    }
   },
   "types_to_exclude": [
    "module",
    "function",
    "builtin_function_or_method",
    "instance",
    "_Feature"
   ],
   "window_display": false
  }
 },
 "nbformat": 4,
 "nbformat_minor": 5
}
