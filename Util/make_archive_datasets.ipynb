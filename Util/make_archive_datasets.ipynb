{
 "cells": [
  {
   "cell_type": "code",
   "execution_count": 4,
   "id": "bb420987",
   "metadata": {
    "ExecuteTime": {
     "end_time": "2023-04-20T07:34:10.226114Z",
     "start_time": "2023-04-20T07:34:10.222000Z"
    }
   },
   "outputs": [],
   "source": [
    "import os.path as path\n",
    "import cv2 as cv\n",
    "import xml.etree.ElementTree as ET"
   ]
  },
  {
   "cell_type": "code",
   "execution_count": 6,
   "id": "093a1be8",
   "metadata": {
    "ExecuteTime": {
     "end_time": "2023-04-20T07:35:04.478391Z",
     "start_time": "2023-04-20T07:35:04.465154Z"
    }
   },
   "outputs": [],
   "source": [
    "def make_dataset(root = '../../../data/MAFA/', dataset = 'train'):\n",
    "    filename_dir = path.join(root, dataset, \"filename.txt\")\n",
    "    with open(filename_dir, 'r') as f:\n",
    "        for line in f:\n",
    "             if line.strip() != \"\":\n",
    "#                     o_img_dir = path.join(root, \"images\", line.strip()+\".png\")\n",
    "#                     n_img_dir = path.join(root, dataset, line.strip()+\".jpg\")\n",
    "#                     img = cv.imread(o_img_dir)\n",
    "#                     cv.imwrite(n_img_dir, img)\n",
    "#                     cv.imshow(\"d\", img)\n",
    "#                     cv.waitKey(0)\n",
    "                    \n",
    "                    \n",
    "#                     o_ann_dir = path.join(root, \"annotations\", line.strip()+\".xml\")\n",
    "                    o_ann_dir = path.join(root, dataset, line.strip()+\".xml\")\n",
    "                    n_ann_dir = path.join(root, dataset, line.strip()+\".xml\")\n",
    "                    o_xml = ET.parse(o_ann_dir).getroot()\n",
    "                    for obj in o_xml.iter('object'):\n",
    "                        name = obj.find('name')\n",
    "                        lsname = name.text.lower().strip()\n",
    "                        if lsname == 'masked_face':\n",
    "                            name.text = 'face_mask'\n",
    "                        elif lsname == 'unmasked_face':\n",
    "                            name.text = 'face'\n",
    "                        elif lsname == \"incorrectly_masked_face\":\n",
    "                            name.text = 'mask_weared_incorrect'\n",
    "                    new_tree = ET.ElementTree(o_xml)\n",
    "                    new_tree.write(n_ann_dir, encoding='utf-8')\n",
    " \n",
    "    return True\n",
    "\n",
    "FACE_CLASSES = ('face', 'face_mask', \"mask_weared_incorrect\")    "
   ]
  },
  {
   "cell_type": "code",
   "execution_count": 8,
   "id": "d962caba",
   "metadata": {
    "ExecuteTime": {
     "end_time": "2023-04-20T07:36:29.187530Z",
     "start_time": "2023-04-20T07:36:10.282480Z"
    }
   },
   "outputs": [
    {
     "data": {
      "text/plain": [
       "True"
      ]
     },
     "execution_count": 8,
     "metadata": {},
     "output_type": "execute_result"
    }
   ],
   "source": [
    "make_dataset(root = '../../../data/MAFA/', dataset = 'train')"
   ]
  },
  {
   "cell_type": "code",
   "execution_count": 3,
   "id": "39e6bb95",
   "metadata": {
    "ExecuteTime": {
     "end_time": "2023-04-20T07:31:04.526552Z",
     "start_time": "2023-04-20T07:31:04.516606Z"
    }
   },
   "outputs": [],
   "source": []
  },
  {
   "cell_type": "code",
   "execution_count": null,
   "id": "4de71f1a",
   "metadata": {},
   "outputs": [],
   "source": []
  }
 ],
 "metadata": {
  "kernelspec": {
   "display_name": "Python [conda env:pytorch] *",
   "language": "python",
   "name": "conda-env-pytorch-py"
  },
  "language_info": {
   "codemirror_mode": {
    "name": "ipython",
    "version": 3
   },
   "file_extension": ".py",
   "mimetype": "text/x-python",
   "name": "python",
   "nbconvert_exporter": "python",
   "pygments_lexer": "ipython3",
   "version": "3.9.16"
  },
  "toc": {
   "base_numbering": 1,
   "nav_menu": {},
   "number_sections": true,
   "sideBar": true,
   "skip_h1_title": false,
   "title_cell": "Table of Contents",
   "title_sidebar": "Contents",
   "toc_cell": false,
   "toc_position": {},
   "toc_section_display": true,
   "toc_window_display": false
  },
  "varInspector": {
   "cols": {
    "lenName": 16,
    "lenType": 16,
    "lenVar": 40
   },
   "kernels_config": {
    "python": {
     "delete_cmd_postfix": "",
     "delete_cmd_prefix": "del ",
     "library": "var_list.py",
     "varRefreshCmd": "print(var_dic_list())"
    },
    "r": {
     "delete_cmd_postfix": ") ",
     "delete_cmd_prefix": "rm(",
     "library": "var_list.r",
     "varRefreshCmd": "cat(var_dic_list()) "
    }
   },
   "types_to_exclude": [
    "module",
    "function",
    "builtin_function_or_method",
    "instance",
    "_Feature"
   ],
   "window_display": false
  }
 },
 "nbformat": 4,
 "nbformat_minor": 5
}
